{
 "cells": [
  {
   "cell_type": "markdown",
   "metadata": {},
   "source": [
    "# Breast Cancer"
   ]
  },
  {
   "cell_type": "markdown",
   "metadata": {},
   "source": [
    "### Carregando Dados com Pandas:\n",
    "\n",
    "Para carregar conjuntos de dados, frequentemente usamos a função `read_csv` para ler dados de arquivos CSV.\n"
   ]
  },
  {
   "cell_type": "code",
   "execution_count": 29,
   "metadata": {},
   "outputs": [],
   "source": [
    "import pandas as pd\n",
    "\n",
    "previsores = pd.read_csv('entradas_breast.csv')\n",
    "classe = pd.read_csv('saidas_breast.csv')"
   ]
  },
  {
   "cell_type": "markdown",
   "metadata": {},
   "source": [
    "### Dividindo o Conjunto de Dados para Treinamento e Teste:\n",
    "\n",
    "Para treinar e avaliar eficientemente um modelo de aprendizado de máquina, é comum dividir o conjunto de dados em conjuntos de treinamento e teste. A biblioteca scikit-learn oferece uma função conveniente chamada `train_test_split` para realizar essa divisão."
   ]
  },
  {
   "cell_type": "code",
   "execution_count": 30,
   "metadata": {},
   "outputs": [],
   "source": [
    "from sklearn.model_selection import train_test_split\n",
    "\n",
    "previsores_treinamento, previsores_teste, classe_treinamento, classe_teste = train_test_split(previsores, classe, test_size=0.25)"
   ]
  },
  {
   "cell_type": "markdown",
   "metadata": {},
   "source": [
    "### Construção do Modelo Neural\n",
    "\n",
    "O código abaixo utiliza a biblioteca Keras para construir um modelo de classificação neural.\n",
    "\n",
    "* Arquitetura do Modelo:\n",
    "    * `Sequential()`: Cria um modelo sequencial, onde as camadas são adicionadas em sequência.\n",
    "\n",
    "    * `Dense(units=16, activation='relu', kernel_initializer='random_uniform', input_dim=30)`: Primeira camada densa com 16 unidades, função de ativação ReLU, inicialização de pesos aleatória e 30 dimensões de entrada.\n",
    "\n",
    "    * `Dense(units=1, activation='sigmoid')`: Segunda camada densa com 1 unidade e função de ativação sigmoid para problemas de classificação binária.\n"
   ]
  },
  {
   "cell_type": "code",
   "execution_count": 31,
   "metadata": {},
   "outputs": [],
   "source": [
    "from keras.models import Sequential\n",
    "from keras.layers import Dense\n",
    "\n",
    "classificador = Sequential()\n",
    "\n",
    "classificador.add(Dense(units = 16, activation='relu', kernel_initializer = 'random_uniform', input_dim = 30))\n",
    "#classificador.add(Dense(units = 16, activation='relu', kernel_initializer = 'random_uniform'))\n",
    "classificador.add(Dense(units = 1, activation = 'sigmoid'))"
   ]
  },
  {
   "cell_type": "markdown",
   "metadata": {},
   "source": [
    "### Treinamento do Classificador Neural\n",
    "\n",
    "O código abaixo compila e treina o modelo de classificação neural usando Keras:.\n",
    "\n",
    "* Compilação\n",
    "    * `optimizer='adam':` Otimizador Adam para ajustar os pesos durante o treinamento.\n",
    "    * `loss='binary_crossentropy':` Função de perda para problemas de classificação binária.\n",
    "    * `metrics=['binary_accuracy']`: Métrica de avaliação durante o treinamento, no caso, acurácia binária.\n",
    "\n",
    "* Treinamento\n",
    "    * `previsores_treinamento`: Conjunto de dados de entrada para treinamento.\n",
    "    * `classe_treinamento`: Rótulos correspondentes ao conjunto de treinamento.\n",
    "    * `batch_size=10`: Número de amostras processadas por atualização de gradiente.\n",
    "    * `epochs=100`: Número de vezes que o modelo passará por todo o conjunto de treinamento."
   ]
  },
  {
   "cell_type": "code",
   "execution_count": 32,
   "metadata": {},
   "outputs": [
    {
     "name": "stdout",
     "output_type": "stream",
     "text": [
      "Epoch 1/100\n"
     ]
    },
    {
     "name": "stdout",
     "output_type": "stream",
     "text": [
      "43/43 [==============================] - 1s 2ms/step - loss: 14.0588 - binary_accuracy: 0.5423\n",
      "Epoch 2/100\n",
      "43/43 [==============================] - 0s 2ms/step - loss: 1.5804 - binary_accuracy: 0.6995\n",
      "Epoch 3/100\n",
      "43/43 [==============================] - 0s 2ms/step - loss: 1.2249 - binary_accuracy: 0.7653\n",
      "Epoch 4/100\n",
      "43/43 [==============================] - 0s 2ms/step - loss: 0.6591 - binary_accuracy: 0.8239\n",
      "Epoch 5/100\n",
      "43/43 [==============================] - 0s 2ms/step - loss: 0.6730 - binary_accuracy: 0.8216\n",
      "Epoch 6/100\n",
      "43/43 [==============================] - 0s 2ms/step - loss: 0.5214 - binary_accuracy: 0.8498\n",
      "Epoch 7/100\n",
      "43/43 [==============================] - 0s 2ms/step - loss: 0.5148 - binary_accuracy: 0.8404\n",
      "Epoch 8/100\n",
      "43/43 [==============================] - 0s 2ms/step - loss: 0.4788 - binary_accuracy: 0.8521\n",
      "Epoch 9/100\n",
      "43/43 [==============================] - 0s 1ms/step - loss: 0.3924 - binary_accuracy: 0.8897\n",
      "Epoch 10/100\n",
      "43/43 [==============================] - 0s 2ms/step - loss: 0.3258 - binary_accuracy: 0.9014\n",
      "Epoch 11/100\n",
      "43/43 [==============================] - 0s 2ms/step - loss: 0.2655 - binary_accuracy: 0.9085\n",
      "Epoch 12/100\n",
      "43/43 [==============================] - 0s 2ms/step - loss: 0.3042 - binary_accuracy: 0.9085\n",
      "Epoch 13/100\n",
      "43/43 [==============================] - 0s 2ms/step - loss: 0.2933 - binary_accuracy: 0.8967\n",
      "Epoch 14/100\n",
      "43/43 [==============================] - 0s 1ms/step - loss: 0.2486 - binary_accuracy: 0.9131\n",
      "Epoch 15/100\n",
      "43/43 [==============================] - 0s 2ms/step - loss: 0.2549 - binary_accuracy: 0.9202\n",
      "Epoch 16/100\n",
      "43/43 [==============================] - 0s 1ms/step - loss: 0.3187 - binary_accuracy: 0.9061\n",
      "Epoch 17/100\n",
      "43/43 [==============================] - 0s 2ms/step - loss: 0.2487 - binary_accuracy: 0.9085\n",
      "Epoch 18/100\n",
      "43/43 [==============================] - 0s 2ms/step - loss: 0.2492 - binary_accuracy: 0.9108\n",
      "Epoch 19/100\n",
      "43/43 [==============================] - 0s 2ms/step - loss: 0.3973 - binary_accuracy: 0.8756\n",
      "Epoch 20/100\n",
      "43/43 [==============================] - 0s 2ms/step - loss: 0.3678 - binary_accuracy: 0.8803\n",
      "Epoch 21/100\n",
      "43/43 [==============================] - 0s 1ms/step - loss: 0.3276 - binary_accuracy: 0.8967\n",
      "Epoch 22/100\n",
      "43/43 [==============================] - 0s 2ms/step - loss: 0.5106 - binary_accuracy: 0.8732\n",
      "Epoch 23/100\n",
      "43/43 [==============================] - 0s 1ms/step - loss: 0.3518 - binary_accuracy: 0.9131\n",
      "Epoch 24/100\n",
      "43/43 [==============================] - 0s 2ms/step - loss: 0.2096 - binary_accuracy: 0.9366\n",
      "Epoch 25/100\n",
      "43/43 [==============================] - 0s 1ms/step - loss: 0.2666 - binary_accuracy: 0.9131\n",
      "Epoch 26/100\n",
      "43/43 [==============================] - 0s 2ms/step - loss: 0.2382 - binary_accuracy: 0.9225\n",
      "Epoch 27/100\n",
      "43/43 [==============================] - 0s 2ms/step - loss: 0.3832 - binary_accuracy: 0.8873\n",
      "Epoch 28/100\n",
      "43/43 [==============================] - 0s 2ms/step - loss: 0.2450 - binary_accuracy: 0.9178\n",
      "Epoch 29/100\n",
      "43/43 [==============================] - 0s 2ms/step - loss: 0.2291 - binary_accuracy: 0.9390\n",
      "Epoch 30/100\n",
      "43/43 [==============================] - 0s 2ms/step - loss: 0.5757 - binary_accuracy: 0.8638\n",
      "Epoch 31/100\n",
      "43/43 [==============================] - 0s 2ms/step - loss: 0.2507 - binary_accuracy: 0.9085\n",
      "Epoch 32/100\n",
      "43/43 [==============================] - 0s 2ms/step - loss: 0.2222 - binary_accuracy: 0.9202\n",
      "Epoch 33/100\n",
      "43/43 [==============================] - 0s 2ms/step - loss: 0.2746 - binary_accuracy: 0.9131\n",
      "Epoch 34/100\n",
      "43/43 [==============================] - 0s 1ms/step - loss: 0.3191 - binary_accuracy: 0.9155\n",
      "Epoch 35/100\n",
      "43/43 [==============================] - 0s 2ms/step - loss: 0.2705 - binary_accuracy: 0.8991\n",
      "Epoch 36/100\n",
      "43/43 [==============================] - 0s 2ms/step - loss: 0.6434 - binary_accuracy: 0.8568\n",
      "Epoch 37/100\n",
      "43/43 [==============================] - 0s 1ms/step - loss: 0.3779 - binary_accuracy: 0.8967\n",
      "Epoch 38/100\n",
      "43/43 [==============================] - 0s 2ms/step - loss: 0.3075 - binary_accuracy: 0.9085\n",
      "Epoch 39/100\n",
      "43/43 [==============================] - 0s 2ms/step - loss: 0.4620 - binary_accuracy: 0.8779\n",
      "Epoch 40/100\n",
      "43/43 [==============================] - 0s 1ms/step - loss: 0.3172 - binary_accuracy: 0.8897\n",
      "Epoch 41/100\n",
      "43/43 [==============================] - 0s 1ms/step - loss: 0.2057 - binary_accuracy: 0.9390\n",
      "Epoch 42/100\n",
      "43/43 [==============================] - 0s 2ms/step - loss: 0.3115 - binary_accuracy: 0.9014\n",
      "Epoch 43/100\n",
      "43/43 [==============================] - 0s 2ms/step - loss: 0.3305 - binary_accuracy: 0.9108\n",
      "Epoch 44/100\n",
      "43/43 [==============================] - 0s 2ms/step - loss: 0.2644 - binary_accuracy: 0.9366\n",
      "Epoch 45/100\n",
      "43/43 [==============================] - 0s 2ms/step - loss: 0.2204 - binary_accuracy: 0.9178\n",
      "Epoch 46/100\n",
      "43/43 [==============================] - 0s 1ms/step - loss: 0.2752 - binary_accuracy: 0.9108\n",
      "Epoch 47/100\n",
      "43/43 [==============================] - 0s 2ms/step - loss: 0.4520 - binary_accuracy: 0.8897\n",
      "Epoch 48/100\n",
      "43/43 [==============================] - 0s 2ms/step - loss: 0.2079 - binary_accuracy: 0.9343\n",
      "Epoch 49/100\n",
      "43/43 [==============================] - 0s 2ms/step - loss: 0.2015 - binary_accuracy: 0.9272\n",
      "Epoch 50/100\n",
      "43/43 [==============================] - 0s 2ms/step - loss: 0.5299 - binary_accuracy: 0.8474\n",
      "Epoch 51/100\n",
      "43/43 [==============================] - 0s 2ms/step - loss: 0.8360 - binary_accuracy: 0.8427\n",
      "Epoch 52/100\n",
      "43/43 [==============================] - 0s 2ms/step - loss: 0.6796 - binary_accuracy: 0.8568\n",
      "Epoch 53/100\n",
      "43/43 [==============================] - 0s 2ms/step - loss: 0.3134 - binary_accuracy: 0.9249\n",
      "Epoch 54/100\n",
      "43/43 [==============================] - 0s 2ms/step - loss: 0.2157 - binary_accuracy: 0.9296\n",
      "Epoch 55/100\n",
      "43/43 [==============================] - 0s 2ms/step - loss: 0.2608 - binary_accuracy: 0.9202\n",
      "Epoch 56/100\n",
      "43/43 [==============================] - 0s 1ms/step - loss: 0.3277 - binary_accuracy: 0.9249\n",
      "Epoch 57/100\n",
      "43/43 [==============================] - 0s 2ms/step - loss: 0.5828 - binary_accuracy: 0.8756\n",
      "Epoch 58/100\n",
      "43/43 [==============================] - 0s 2ms/step - loss: 0.8798 - binary_accuracy: 0.8826\n",
      "Epoch 59/100\n",
      "43/43 [==============================] - 0s 2ms/step - loss: 0.3856 - binary_accuracy: 0.9085\n",
      "Epoch 60/100\n",
      "43/43 [==============================] - 0s 1ms/step - loss: 0.6896 - binary_accuracy: 0.8920\n",
      "Epoch 61/100\n",
      "43/43 [==============================] - 0s 1ms/step - loss: 0.2920 - binary_accuracy: 0.9202\n",
      "Epoch 62/100\n",
      "43/43 [==============================] - 0s 2ms/step - loss: 0.2517 - binary_accuracy: 0.9296\n",
      "Epoch 63/100\n",
      "43/43 [==============================] - 0s 2ms/step - loss: 0.2922 - binary_accuracy: 0.9296\n",
      "Epoch 64/100\n",
      "43/43 [==============================] - 0s 1ms/step - loss: 0.3079 - binary_accuracy: 0.9155\n",
      "Epoch 65/100\n",
      "43/43 [==============================] - 0s 2ms/step - loss: 0.2119 - binary_accuracy: 0.9343\n",
      "Epoch 66/100\n",
      "43/43 [==============================] - 0s 2ms/step - loss: 0.2792 - binary_accuracy: 0.9272\n",
      "Epoch 67/100\n",
      "43/43 [==============================] - 0s 2ms/step - loss: 0.2041 - binary_accuracy: 0.9460\n",
      "Epoch 68/100\n",
      "43/43 [==============================] - 0s 1ms/step - loss: 0.2482 - binary_accuracy: 0.9343\n",
      "Epoch 69/100\n",
      "43/43 [==============================] - 0s 2ms/step - loss: 0.2886 - binary_accuracy: 0.9272\n",
      "Epoch 70/100\n",
      "43/43 [==============================] - 0s 2ms/step - loss: 0.2919 - binary_accuracy: 0.9225\n",
      "Epoch 71/100\n",
      "43/43 [==============================] - 0s 2ms/step - loss: 0.1963 - binary_accuracy: 0.9319\n",
      "Epoch 72/100\n",
      "43/43 [==============================] - 0s 2ms/step - loss: 0.1650 - binary_accuracy: 0.9507\n",
      "Epoch 73/100\n",
      "43/43 [==============================] - 0s 2ms/step - loss: 0.3761 - binary_accuracy: 0.9061\n",
      "Epoch 74/100\n",
      "43/43 [==============================] - 0s 2ms/step - loss: 0.3236 - binary_accuracy: 0.9108\n",
      "Epoch 75/100\n",
      "43/43 [==============================] - 0s 1ms/step - loss: 0.3159 - binary_accuracy: 0.9155\n",
      "Epoch 76/100\n",
      "43/43 [==============================] - 0s 2ms/step - loss: 0.1657 - binary_accuracy: 0.9484\n",
      "Epoch 77/100\n",
      "43/43 [==============================] - 0s 2ms/step - loss: 0.2063 - binary_accuracy: 0.9319\n",
      "Epoch 78/100\n",
      "43/43 [==============================] - 0s 2ms/step - loss: 0.5220 - binary_accuracy: 0.8826\n",
      "Epoch 79/100\n",
      "43/43 [==============================] - 0s 2ms/step - loss: 0.3131 - binary_accuracy: 0.9202\n",
      "Epoch 80/100\n",
      "43/43 [==============================] - 0s 2ms/step - loss: 0.2815 - binary_accuracy: 0.9272\n",
      "Epoch 81/100\n",
      "43/43 [==============================] - 0s 2ms/step - loss: 0.2052 - binary_accuracy: 0.9296\n",
      "Epoch 82/100\n",
      "43/43 [==============================] - 0s 2ms/step - loss: 0.2301 - binary_accuracy: 0.9343\n",
      "Epoch 83/100\n",
      "43/43 [==============================] - 0s 2ms/step - loss: 0.3916 - binary_accuracy: 0.9085\n",
      "Epoch 84/100\n",
      "43/43 [==============================] - 0s 2ms/step - loss: 0.3564 - binary_accuracy: 0.9249\n",
      "Epoch 85/100\n",
      "43/43 [==============================] - 0s 2ms/step - loss: 0.2649 - binary_accuracy: 0.9272\n",
      "Epoch 86/100\n",
      "43/43 [==============================] - 0s 2ms/step - loss: 0.2962 - binary_accuracy: 0.9319\n",
      "Epoch 87/100\n",
      "43/43 [==============================] - 0s 1ms/step - loss: 0.2813 - binary_accuracy: 0.9249\n",
      "Epoch 88/100\n",
      "43/43 [==============================] - 0s 1ms/step - loss: 0.3711 - binary_accuracy: 0.9202\n",
      "Epoch 89/100\n",
      "43/43 [==============================] - 0s 2ms/step - loss: 0.2800 - binary_accuracy: 0.9366\n",
      "Epoch 90/100\n",
      "43/43 [==============================] - 0s 1ms/step - loss: 0.2173 - binary_accuracy: 0.9319\n",
      "Epoch 91/100\n",
      "43/43 [==============================] - 0s 2ms/step - loss: 0.3057 - binary_accuracy: 0.9249\n",
      "Epoch 92/100\n",
      "43/43 [==============================] - 0s 2ms/step - loss: 0.1841 - binary_accuracy: 0.9390\n",
      "Epoch 93/100\n",
      "43/43 [==============================] - 0s 2ms/step - loss: 0.2730 - binary_accuracy: 0.9155\n",
      "Epoch 94/100\n",
      "43/43 [==============================] - 0s 2ms/step - loss: 0.2190 - binary_accuracy: 0.9390\n",
      "Epoch 95/100\n",
      "43/43 [==============================] - 0s 2ms/step - loss: 0.1688 - binary_accuracy: 0.9437\n",
      "Epoch 96/100\n",
      "43/43 [==============================] - 0s 2ms/step - loss: 0.1914 - binary_accuracy: 0.9343\n",
      "Epoch 97/100\n",
      "43/43 [==============================] - 0s 2ms/step - loss: 0.3138 - binary_accuracy: 0.9155\n",
      "Epoch 98/100\n",
      "43/43 [==============================] - 0s 2ms/step - loss: 0.1270 - binary_accuracy: 0.9624\n",
      "Epoch 99/100\n",
      "43/43 [==============================] - 0s 2ms/step - loss: 0.3433 - binary_accuracy: 0.9202\n",
      "Epoch 100/100\n",
      "43/43 [==============================] - 0s 2ms/step - loss: 0.3004 - binary_accuracy: 0.9249\n"
     ]
    },
    {
     "data": {
      "text/plain": [
       "<keras.src.callbacks.History at 0x7efbcf808590>"
      ]
     },
     "execution_count": 32,
     "metadata": {},
     "output_type": "execute_result"
    }
   ],
   "source": [
    "classificador.compile(optimizer = 'adam', loss = 'binary_crossentropy', metrics = ['binary_accuracy'])\n",
    "classificador.fit(previsores_treinamento, classe_treinamento, batch_size = 10, epochs = 100)"
   ]
  },
  {
   "cell_type": "markdown",
   "metadata": {},
   "source": [
    "### Predição com o Modelo Treinado\n",
    "\n",
    "O trecho de código abaixo realiza predições utilizando o modelo treinado.\n",
    "\n",
    "* Predição:\n",
    "    * `previsoes`: Armazena as predições feitas pelo modelo.\n",
    "    * `classificador`: Modelo neural treinado anteriormente.\n",
    "    * `previsores_teste`: Conjunto de dados de entrada para o qual as predições estão sendo feitas."
   ]
  },
  {
   "cell_type": "code",
   "execution_count": 33,
   "metadata": {},
   "outputs": [
    {
     "name": "stdout",
     "output_type": "stream",
     "text": [
      "5/5 [==============================] - 0s 2ms/step\n"
     ]
    }
   ],
   "source": [
    "ytest"
   ]
  },
  {
   "cell_type": "markdown",
   "metadata": {},
   "source": [
    "### Avaliação do Modelo\n",
    "\n",
    "O trecho de código abaixo realiza a avaliação do modelo usando métricas comuns.\n",
    "\n",
    "* Avaliação:\n",
    "    \n",
    "    * `accuracy_score(classe_teste, previsoes)`: Calcula a precisão do modelo, comparando as classes reais (classe_teste) com as previsões feitas pelo modelo (previsoes).\n",
    "    \n",
    "    * `confusion_matrix(classe_teste, previsoes)`: Gera uma matriz de confusão, que mostra a distribuição de verdadeiros positivos, verdadeiros negativos, falsos positivos e falsos negativos.\n"
   ]
  },
  {
   "cell_type": "code",
   "execution_count": 34,
   "metadata": {},
   "outputs": [],
   "source": [
    "from sklearn.metrics import confusion_matrix, accuracy_score\n",
    "\n",
    "precisao = accuracy_score(classe_teste, previsoes)\n",
    "matriz = confusion_matrix(classe_teste, previsoes)"
   ]
  },
  {
   "cell_type": "markdown",
   "metadata": {},
   "source": [
    "### Visualização da Matriz de Confusão\n",
    "\n",
    "O código abaixo utiliza a biblioteca Matplotlib e Seaborn para criar um mapa de calor da matriz de confusão, proporcionando uma representação visual dos resultados do modelo.\n",
    "\n",
    "* Configurações Visuais:\n",
    "    * `sns.set(font_scale=1.2)`: Ajusta o tamanho da fonte para melhor legibilidade.\n",
    "    * `sns.heatmap(...)`: Cria um mapa de calor da matriz de confusão com as configurações especificadas.\n",
    "    * `plt.figure(figsize=(8, 6))`: Define o tamanho da figura para uma apresentação mais clara.\n",
    "    * `plt.show()`: Exibe o gráfico gerado."
   ]
  },
  {
   "cell_type": "code",
   "execution_count": 35,
   "metadata": {},
   "outputs": [
    {
     "data": {
      "image/png": "[encoded data removed]",
      "text/plain": [
       "<Figure size 800x600 with 1 Axes>"
      ]
     },
     "metadata": {},
     "output_type": "display_data"
    }
   ],
   "source": [
    "import matplotlib.pyplot as plt\n",
    "import seaborn as sns\n",
    "\n",
    "sns.set(font_scale=1.2)\n",
    "\n",
    "plt.figure(figsize=(8, 6))\n",
    "plt.title(\"Matriz de Confusão\")\n",
    "plt.xlabel(\"Previsões\")\n",
    "plt.ylabel(\"Verdadeiros Valores\")\n",
    "sns.heatmap(matriz, annot=True, fmt=\"d\", cmap=\"Blues\", cbar=False, annot_kws={\"size\": 16}, linewidths=0, vmin=0, vmax=100)\n",
    "\n",
    "plt.show()"
   ]
  },
  {
   "cell_type": "code",
   "execution_count": null,
   "metadata": {},
   "outputs": [],
   "source": []
  }
 ],
 "metadata": {
  "kernelspec": {
   "display_name": "venv",
   "language": "python",
   "name": "python3"
  },
  "language_info": {
   "codemirror_mode": {
    "name": "ipython",
    "version": 3
   },
   "file_extension": ".py",
   "mimetype": "text/x-python",
   "name": "python",
   "nbconvert_exporter": "python",
   "pygments_lexer": "ipython3",
   "version": "3.11.2"
  }
 },
 "nbformat": 4,
 "nbformat_minor": 2
}
