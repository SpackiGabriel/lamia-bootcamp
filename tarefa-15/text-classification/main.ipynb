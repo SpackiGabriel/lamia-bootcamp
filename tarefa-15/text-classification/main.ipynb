{
 "cells": [
  {
   "cell_type": "code",
   "execution_count": 159,
   "metadata": {},
   "outputs": [],
   "source": [
    "import numpy as np\n",
    "import pandas as pd\n",
    "import matplotlib.pyplot as plt\n",
    "from sklearn.model_selection import train_test_split\n",
    "\n",
    "from keras.preprocessing.text import Tokenizer\n",
    "from keras.preprocessing.sequence import pad_sequences\n",
    "from keras.layers import Dense, Input, GlobalMaxPooling1D, Conv1D, MaxPooling1D, Embedding, Dropout\n",
    "from keras.models import Model\n",
    "from keras import regularizers"
   ]
  },
  {
   "cell_type": "code",
   "execution_count": 160,
   "metadata": {},
   "outputs": [],
   "source": [
    "df = pd.read_csv(\"spam.csv\", encoding=\"ISO-8859-1\")"
   ]
  },
  {
   "cell_type": "code",
   "execution_count": 161,
   "metadata": {},
   "outputs": [
    {
     "data": {
      "text/html": [
       "<div>\n",
       "<style scoped>\n",
       "    .dataframe tbody tr th:only-of-type {\n",
       "        vertical-align: middle;\n",
       "    }\n",
       "\n",
       "    .dataframe tbody tr th {\n",
       "        vertical-align: top;\n",
       "    }\n",
       "\n",
       "    .dataframe thead th {\n",
       "        text-align: right;\n",
       "    }\n",
       "</style>\n",
       "<table border=\"1\" class=\"dataframe\">\n",
       "  <thead>\n",
       "    <tr style=\"text-align: right;\">\n",
       "      <th></th>\n",
       "      <th>v1</th>\n",
       "      <th>v2</th>\n",
       "      <th>Unnamed: 2</th>\n",
       "      <th>Unnamed: 3</th>\n",
       "      <th>Unnamed: 4</th>\n",
       "    </tr>\n",
       "  </thead>\n",
       "  <tbody>\n",
       "    <tr>\n",
       "      <th>0</th>\n",
       "      <td>ham</td>\n",
       "      <td>Go until jurong point, crazy.. Available only ...</td>\n",
       "      <td>NaN</td>\n",
       "      <td>NaN</td>\n",
       "      <td>NaN</td>\n",
       "    </tr>\n",
       "    <tr>\n",
       "      <th>1</th>\n",
       "      <td>ham</td>\n",
       "      <td>Ok lar... Joking wif u oni...</td>\n",
       "      <td>NaN</td>\n",
       "      <td>NaN</td>\n",
       "      <td>NaN</td>\n",
       "    </tr>\n",
       "    <tr>\n",
       "      <th>2</th>\n",
       "      <td>spam</td>\n",
       "      <td>Free entry in 2 a wkly comp to win FA Cup fina...</td>\n",
       "      <td>NaN</td>\n",
       "      <td>NaN</td>\n",
       "      <td>NaN</td>\n",
       "    </tr>\n",
       "    <tr>\n",
       "      <th>3</th>\n",
       "      <td>ham</td>\n",
       "      <td>U dun say so early hor... U c already then say...</td>\n",
       "      <td>NaN</td>\n",
       "      <td>NaN</td>\n",
       "      <td>NaN</td>\n",
       "    </tr>\n",
       "    <tr>\n",
       "      <th>4</th>\n",
       "      <td>ham</td>\n",
       "      <td>Nah I don't think he goes to usf, he lives aro...</td>\n",
       "      <td>NaN</td>\n",
       "      <td>NaN</td>\n",
       "      <td>NaN</td>\n",
       "    </tr>\n",
       "  </tbody>\n",
       "</table>\n",
       "</div>"
      ],
      "text/plain": [
       "     v1                                                 v2 Unnamed: 2  \\\n",
       "0   ham  Go until jurong point, crazy.. Available only ...        NaN   \n",
       "1   ham                      Ok lar... Joking wif u oni...        NaN   \n",
       "2  spam  Free entry in 2 a wkly comp to win FA Cup fina...        NaN   \n",
       "3   ham  U dun say so early hor... U c already then say...        NaN   \n",
       "4   ham  Nah I don't think he goes to usf, he lives aro...        NaN   \n",
       "\n",
       "  Unnamed: 3 Unnamed: 4  \n",
       "0        NaN        NaN  \n",
       "1        NaN        NaN  \n",
       "2        NaN        NaN  \n",
       "3        NaN        NaN  \n",
       "4        NaN        NaN  "
      ]
     },
     "execution_count": 161,
     "metadata": {},
     "output_type": "execute_result"
    }
   ],
   "source": [
    "df.head()"
   ]
  },
  {
   "cell_type": "code",
   "execution_count": 162,
   "metadata": {},
   "outputs": [],
   "source": [
    "df = df.drop([\"Unnamed: 2\", \"Unnamed: 3\", \"Unnamed: 4\"], axis=1)\n",
    "df.columns = [\"labels\", \"data\"]"
   ]
  },
  {
   "cell_type": "code",
   "execution_count": 163,
   "metadata": {},
   "outputs": [],
   "source": [
    "df[\"b_labels\"] = df[\"labels\"].map({\"ham\": 0, \"spam\": 1})\n",
    "\n",
    "y = df[\"b_labels\"].values\n",
    "x = df[\"data\"]"
   ]
  },
  {
   "cell_type": "code",
   "execution_count": 164,
   "metadata": {},
   "outputs": [],
   "source": [
    "x_train, x_test, y_train, y_test = train_test_split(x, y, test_size=0.33)"
   ]
  },
  {
   "cell_type": "code",
   "execution_count": 165,
   "metadata": {},
   "outputs": [],
   "source": [
    "tokenizer = Tokenizer(num_words=20000)\n",
    "\n",
    "tokenizer.fit_on_texts(x_train)\n",
    "\n",
    "sequences_train = tokenizer.texts_to_sequences(x_train)\n",
    "sequences_test = tokenizer.texts_to_sequences(x_test)"
   ]
  },
  {
   "cell_type": "code",
   "execution_count": 166,
   "metadata": {},
   "outputs": [
    {
     "name": "stdout",
     "output_type": "stream",
     "text": [
      "Fround 7179 unique tokens\n"
     ]
    }
   ],
   "source": [
    "V = len(tokenizer.word_index)\n",
    "print(f\"Fround {V} unique tokens\")"
   ]
  },
  {
   "cell_type": "code",
   "execution_count": 167,
   "metadata": {},
   "outputs": [],
   "source": [
    "max_len_train = max(len(seq) for seq in sequences_train)\n",
    "\n",
    "T = max_len_train\n",
    "\n",
    "data_train = pad_sequences(sequences_train, maxlen=T)\n",
    "data_test = pad_sequences(sequences_test, maxlen=T)"
   ]
  },
  {
   "cell_type": "code",
   "execution_count": 168,
   "metadata": {},
   "outputs": [],
   "source": [
    "D = 20\n",
    "\n",
    "i = Input(shape=(T, ))\n",
    "\n",
    "layer = Embedding(V + 1, D)(i)\n",
    "layer = Conv1D(32, 3, activation='relu')(layer)\n",
    "layer = MaxPooling1D(3)(layer)\n",
    "\n",
    "\n",
    "layer = Conv1D(64, 3, activation='relu')(layer)\n",
    "layer = MaxPooling1D(3)(layer)\n",
    "\n",
    "layer = Conv1D(128, 3, activation='relu')(layer)\n",
    "layer = GlobalMaxPooling1D()(layer)\n",
    "\n",
    "layer = Dropout(0.2)(layer)\n",
    "layer = Dense(64, kernel_regularizer=regularizers.l1(0.01), activation='relu')(layer)\n",
    "\n",
    "layer = Dense(1, activation='sigmoid')(layer)\n",
    "\n",
    "model = Model(i, layer)"
   ]
  },
  {
   "cell_type": "code",
   "execution_count": 169,
   "metadata": {},
   "outputs": [
    {
     "name": "stdout",
     "output_type": "stream",
     "text": [
      "Epoch 1/20\n",
      "117/117 [==============================] - 2s 9ms/step - loss: 4.0147 - accuracy: 0.8698 - val_loss: 1.2872 - val_accuracy: 0.8581\n",
      "Epoch 2/20\n",
      "117/117 [==============================] - 1s 8ms/step - loss: 0.4695 - accuracy: 0.8896 - val_loss: 0.2558 - val_accuracy: 0.9331\n",
      "Epoch 3/20\n",
      "117/117 [==============================] - 1s 7ms/step - loss: 0.1412 - accuracy: 0.9861 - val_loss: 0.1614 - val_accuracy: 0.9755\n",
      "Epoch 4/20\n",
      "117/117 [==============================] - 1s 8ms/step - loss: 0.0766 - accuracy: 0.9941 - val_loss: 0.1061 - val_accuracy: 0.9859\n",
      "Epoch 5/20\n",
      "117/117 [==============================] - 1s 7ms/step - loss: 0.0471 - accuracy: 0.9979 - val_loss: 0.0946 - val_accuracy: 0.9869\n",
      "Epoch 6/20\n",
      "117/117 [==============================] - 1s 8ms/step - loss: 0.0552 - accuracy: 0.9962 - val_loss: 0.1074 - val_accuracy: 0.9821\n",
      "Epoch 7/20\n",
      "117/117 [==============================] - 1s 8ms/step - loss: 0.0354 - accuracy: 0.9992 - val_loss: 0.0907 - val_accuracy: 0.9848\n",
      "Epoch 8/20\n",
      "117/117 [==============================] - 1s 8ms/step - loss: 0.0353 - accuracy: 0.9989 - val_loss: 0.1045 - val_accuracy: 0.9821\n",
      "Epoch 9/20\n",
      "117/117 [==============================] - 1s 8ms/step - loss: 0.0297 - accuracy: 0.9992 - val_loss: 0.0818 - val_accuracy: 0.9853\n",
      "Epoch 10/20\n",
      "117/117 [==============================] - 1s 8ms/step - loss: 0.0419 - accuracy: 0.9992 - val_loss: 0.0913 - val_accuracy: 0.9853\n",
      "Epoch 11/20\n",
      "117/117 [==============================] - 1s 8ms/step - loss: 0.0239 - accuracy: 0.9995 - val_loss: 0.0878 - val_accuracy: 0.9853\n",
      "Epoch 12/20\n",
      "117/117 [==============================] - 1s 8ms/step - loss: 0.0244 - accuracy: 0.9995 - val_loss: 0.0900 - val_accuracy: 0.9853\n",
      "Epoch 13/20\n",
      "117/117 [==============================] - 1s 8ms/step - loss: 0.0260 - accuracy: 0.9989 - val_loss: 0.0938 - val_accuracy: 0.9853\n",
      "Epoch 14/20\n",
      "117/117 [==============================] - 1s 8ms/step - loss: 0.0222 - accuracy: 0.9995 - val_loss: 0.0970 - val_accuracy: 0.9848\n",
      "Epoch 15/20\n",
      "117/117 [==============================] - 1s 8ms/step - loss: 0.0211 - accuracy: 0.9995 - val_loss: 0.0858 - val_accuracy: 0.9842\n",
      "Epoch 16/20\n",
      "117/117 [==============================] - 1s 7ms/step - loss: 0.0195 - accuracy: 1.0000 - val_loss: 0.1140 - val_accuracy: 0.9842\n",
      "Epoch 17/20\n",
      "117/117 [==============================] - 1s 8ms/step - loss: 0.0196 - accuracy: 0.9997 - val_loss: 0.1718 - val_accuracy: 0.9804\n",
      "Epoch 18/20\n",
      "117/117 [==============================] - 1s 7ms/step - loss: 0.0194 - accuracy: 0.9997 - val_loss: 0.1297 - val_accuracy: 0.9804\n",
      "Epoch 19/20\n",
      "117/117 [==============================] - 1s 8ms/step - loss: 0.0435 - accuracy: 0.9992 - val_loss: 0.3825 - val_accuracy: 0.9804\n",
      "Epoch 20/20\n",
      "117/117 [==============================] - 1s 8ms/step - loss: 0.0584 - accuracy: 0.9987 - val_loss: 0.2565 - val_accuracy: 0.9804\n"
     ]
    }
   ],
   "source": [
    "model.compile(\n",
    "    loss=\"binary_crossentropy\",\n",
    "    optimizer=\"adam\",\n",
    "    metrics=[\"accuracy\"]\n",
    ")\n",
    "\n",
    "results = model.fit(data_train, y_train, epochs=20, validation_data=(data_test, y_test))"
   ]
  },
  {
   "cell_type": "code",
   "execution_count": 170,
   "metadata": {},
   "outputs": [
    {
     "data": {
      "text/plain": [
       "<matplotlib.legend.Legend at 0x7f3ed436da50>"
      ]
     },
     "execution_count": 170,
     "metadata": {},
     "output_type": "execute_result"
    },
    {
     "data": {
      "image/png": "[encoded data removed]",
      "text/plain": [
       "<Figure size 640x480 with 1 Axes>"
      ]
     },
     "metadata": {},
     "output_type": "display_data"
    }
   ],
   "source": [
    "plt.plot(results.history[\"loss\"], label=\"train loss\")\n",
    "plt.plot(results.history[\"val_loss\"], label=\"valid loss\")\n",
    "plt.title(\"Loss: epoch x value\")\n",
    "plt.legend()"
   ]
  },
  {
   "cell_type": "code",
   "execution_count": 171,
   "metadata": {},
   "outputs": [
    {
     "data": {
      "text/plain": [
       "<matplotlib.legend.Legend at 0x7f3ed42a5a50>"
      ]
     },
     "execution_count": 171,
     "metadata": {},
     "output_type": "execute_result"
    },
    {
     "data": {
      "image/png": "[encoded data removed]",
      "text/plain": [
       "<Figure size 640x480 with 1 Axes>"
      ]
     },
     "metadata": {},
     "output_type": "display_data"
    }
   ],
   "source": [
    "plt.plot(results.history[\"accuracy\"], label=\"train accuracy\")\n",
    "plt.plot(results.history[\"val_accuracy\"], label=\"valid accuracy\")\n",
    "plt.title(\"Loss: epoch x accuracy\")\n",
    "plt.legend()"
   ]
  },
  {
   "cell_type": "code",
   "execution_count": null,
   "metadata": {},
   "outputs": [],
   "source": []
  }
 ],
 "metadata": {
  "kernelspec": {
   "display_name": "venv",
   "language": "python",
   "name": "python3"
  },
  "language_info": {
   "codemirror_mode": {
    "name": "ipython",
    "version": 3
   },
   "file_extension": ".py",
   "mimetype": "text/x-python",
   "name": "python",
   "nbconvert_exporter": "python",
   "pygments_lexer": "ipython3",
   "version": "3.11.2"
  }
 },
 "nbformat": 4,
 "nbformat_minor": 2
}
